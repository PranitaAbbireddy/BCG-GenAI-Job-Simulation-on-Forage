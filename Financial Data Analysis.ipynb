{
 "cells": [
  {
   "cell_type": "markdown",
   "id": "0697f26f-6f51-493f-82cc-e4f4806c0587",
   "metadata": {},
   "source": [
    "# Financial Data Analysis\n",
    "## Introduction\n",
    "This analysis examines financial trends for Microsoft, Tesla, and Apple over the past three years.\n",
    "## Methodology\n",
    "We calculated Year-over-Year growth percentages for revenue, net income, assets, liabilities, and cash flow."
   ]
  },
  {
   "cell_type": "code",
   "execution_count": 2,
   "id": "01b26205-e1d5-4e59-8604-36e8ff20f4ef",
   "metadata": {},
   "outputs": [],
   "source": [
    "# Import required libraries\n",
    "import pandas as pd\n",
    "import numpy as np\n",
    "import matplotlib.pyplot as plt\n",
    "import seaborn as sns"
   ]
  },
  {
   "cell_type": "code",
   "execution_count": 3,
   "id": "27042730-d5d9-4666-a4ec-18011aed0f4e",
   "metadata": {},
   "outputs": [],
   "source": [
    "# Load the dataset \n",
    "df = pd.read_excel('C:/Users/Admin/Desktop/BCG Job Simulation/Dataset.xlsx')"
   ]
  },
  {
   "cell_type": "code",
   "execution_count": 4,
   "id": "8aa09139-3e4f-4990-a633-a896b3a0f573",
   "metadata": {},
   "outputs": [
    {
     "data": {
      "text/html": [
       "<div>\n",
       "<style scoped>\n",
       "    .dataframe tbody tr th:only-of-type {\n",
       "        vertical-align: middle;\n",
       "    }\n",
       "\n",
       "    .dataframe tbody tr th {\n",
       "        vertical-align: top;\n",
       "    }\n",
       "\n",
       "    .dataframe thead th {\n",
       "        text-align: right;\n",
       "    }\n",
       "</style>\n",
       "<table border=\"1\" class=\"dataframe\">\n",
       "  <thead>\n",
       "    <tr style=\"text-align: right;\">\n",
       "      <th></th>\n",
       "      <th>Year</th>\n",
       "      <th>Company</th>\n",
       "      <th>Total Revenue</th>\n",
       "      <th>Net Income</th>\n",
       "      <th>Total Assets</th>\n",
       "      <th>Total Liabilities</th>\n",
       "      <th>Cash Flow from Operating Activities</th>\n",
       "    </tr>\n",
       "  </thead>\n",
       "  <tbody>\n",
       "    <tr>\n",
       "      <th>0</th>\n",
       "      <td>2022</td>\n",
       "      <td>Microsoft</td>\n",
       "      <td>198270</td>\n",
       "      <td>72738</td>\n",
       "      <td>364840</td>\n",
       "      <td>198298</td>\n",
       "      <td>89035</td>\n",
       "    </tr>\n",
       "    <tr>\n",
       "      <th>1</th>\n",
       "      <td>2022</td>\n",
       "      <td>Tesla</td>\n",
       "      <td>81462</td>\n",
       "      <td>12587</td>\n",
       "      <td>82338</td>\n",
       "      <td>36440</td>\n",
       "      <td>14724</td>\n",
       "    </tr>\n",
       "    <tr>\n",
       "      <th>2</th>\n",
       "      <td>2022</td>\n",
       "      <td>Apple</td>\n",
       "      <td>394328</td>\n",
       "      <td>99803</td>\n",
       "      <td>352583</td>\n",
       "      <td>302083</td>\n",
       "      <td>122151</td>\n",
       "    </tr>\n",
       "    <tr>\n",
       "      <th>3</th>\n",
       "      <td>2023</td>\n",
       "      <td>Microsoft</td>\n",
       "      <td>211915</td>\n",
       "      <td>72361</td>\n",
       "      <td>411976</td>\n",
       "      <td>205753</td>\n",
       "      <td>87582</td>\n",
       "    </tr>\n",
       "    <tr>\n",
       "      <th>4</th>\n",
       "      <td>2023</td>\n",
       "      <td>Tesla</td>\n",
       "      <td>96733</td>\n",
       "      <td>14974</td>\n",
       "      <td>106618</td>\n",
       "      <td>43009</td>\n",
       "      <td>13256</td>\n",
       "    </tr>\n",
       "    <tr>\n",
       "      <th>5</th>\n",
       "      <td>2023</td>\n",
       "      <td>Apple</td>\n",
       "      <td>383285</td>\n",
       "      <td>96995</td>\n",
       "      <td>352583</td>\n",
       "      <td>290437</td>\n",
       "      <td>110543</td>\n",
       "    </tr>\n",
       "    <tr>\n",
       "      <th>6</th>\n",
       "      <td>2024</td>\n",
       "      <td>Microsoft</td>\n",
       "      <td>245122</td>\n",
       "      <td>88136</td>\n",
       "      <td>512163</td>\n",
       "      <td>243686</td>\n",
       "      <td>118548</td>\n",
       "    </tr>\n",
       "    <tr>\n",
       "      <th>7</th>\n",
       "      <td>2024</td>\n",
       "      <td>Tesla</td>\n",
       "      <td>97690</td>\n",
       "      <td>7153</td>\n",
       "      <td>122070</td>\n",
       "      <td>48390</td>\n",
       "      <td>14923</td>\n",
       "    </tr>\n",
       "    <tr>\n",
       "      <th>8</th>\n",
       "      <td>2024</td>\n",
       "      <td>Apple</td>\n",
       "      <td>391035</td>\n",
       "      <td>93736</td>\n",
       "      <td>364980</td>\n",
       "      <td>308030</td>\n",
       "      <td>118254</td>\n",
       "    </tr>\n",
       "  </tbody>\n",
       "</table>\n",
       "</div>"
      ],
      "text/plain": [
       "   Year     Company  Total Revenue  Net Income  Total Assets  \\\n",
       "0   2022  Microsoft         198270       72738        364840   \n",
       "1   2022      Tesla          81462       12587         82338   \n",
       "2   2022      Apple         394328       99803        352583   \n",
       "3   2023  Microsoft         211915       72361        411976   \n",
       "4   2023      Tesla          96733       14974        106618   \n",
       "5   2023      Apple         383285       96995        352583   \n",
       "6   2024  Microsoft         245122       88136        512163   \n",
       "7   2024      Tesla          97690        7153        122070   \n",
       "8   2024      Apple         391035       93736        364980   \n",
       "\n",
       "   Total Liabilities  Cash Flow from Operating Activities  \n",
       "0             198298                                89035  \n",
       "1              36440                                14724  \n",
       "2             302083                               122151  \n",
       "3             205753                                87582  \n",
       "4              43009                                13256  \n",
       "5             290437                               110543  \n",
       "6             243686                               118548  \n",
       "7              48390                                14923  \n",
       "8             308030                               118254  "
      ]
     },
     "execution_count": 4,
     "metadata": {},
     "output_type": "execute_result"
    }
   ],
   "source": [
    "# Display the dataset\n",
    "df"
   ]
  },
  {
   "cell_type": "code",
   "execution_count": 5,
   "id": "622364b1-4a1e-4811-b3fb-9b41dcce1ac7",
   "metadata": {},
   "outputs": [
    {
     "name": "stdout",
     "output_type": "stream",
     "text": [
      "<class 'pandas.core.frame.DataFrame'>\n",
      "RangeIndex: 9 entries, 0 to 8\n",
      "Data columns (total 7 columns):\n",
      " #   Column                               Non-Null Count  Dtype \n",
      "---  ------                               --------------  ----- \n",
      " 0   Year                                 9 non-null      int64 \n",
      " 1   Company                              9 non-null      object\n",
      " 2   Total Revenue                        9 non-null      int64 \n",
      " 3   Net Income                           9 non-null      int64 \n",
      " 4   Total Assets                         9 non-null      int64 \n",
      " 5   Total Liabilities                    9 non-null      int64 \n",
      " 6   Cash Flow from Operating Activities  9 non-null      int64 \n",
      "dtypes: int64(6), object(1)\n",
      "memory usage: 636.0+ bytes\n"
     ]
    }
   ],
   "source": [
    "# Check the dataset structure\n",
    "df.info() "
   ]
  },
  {
   "cell_type": "code",
   "execution_count": 6,
   "id": "ac798ca9-6df7-4450-9b2d-7a2ec1fe4879",
   "metadata": {},
   "outputs": [],
   "source": [
    "# Calculate Year-over-Year Growth for key financial metrics\n",
    "df['Revenue Growth (%)'] = df.groupby(['Company'])['Total Revenue'].pct_change() * 100\n",
    "df['Net Income Growth (%)'] = df.groupby(['Company'])['Net Income'].pct_change() * 100\n",
    "df['Asset Growth (%)'] = df.groupby('Company')['Total Assets'].pct_change() * 100\n",
    "df['Liability Growth (%)'] = df.groupby('Company')['Total Liabilities'].pct_change() * 100\n",
    "df['Cash Flow Growth (%)'] = df.groupby('Company')['Cash Flow from Operating Activities'].pct_change() * 100"
   ]
  },
  {
   "cell_type": "code",
   "execution_count": 7,
   "id": "3c7f291e-7910-4a40-bc44-a38a728538ab",
   "metadata": {},
   "outputs": [],
   "source": [
    "# Handle missing values\n",
    "df.fillna(0, inplace=True)"
   ]
  },
  {
   "cell_type": "code",
   "execution_count": 8,
   "id": "5eb08e66-8177-494e-8abe-23938896321b",
   "metadata": {},
   "outputs": [],
   "source": [
    "# Display updated dataset with growth metrics\n",
    "df\n",
    "df.to_excel(\"financial_data.xlsx\", index=False)"
   ]
  },
  {
   "cell_type": "code",
   "execution_count": 9,
   "id": "34f618e5-cef9-4168-8be0-4effe6368517",
   "metadata": {},
   "outputs": [
    {
     "data": {
      "text/html": [
       "<div>\n",
       "<style scoped>\n",
       "    .dataframe tbody tr th:only-of-type {\n",
       "        vertical-align: middle;\n",
       "    }\n",
       "\n",
       "    .dataframe tbody tr th {\n",
       "        vertical-align: top;\n",
       "    }\n",
       "\n",
       "    .dataframe thead th {\n",
       "        text-align: right;\n",
       "    }\n",
       "</style>\n",
       "<table border=\"1\" class=\"dataframe\">\n",
       "  <thead>\n",
       "    <tr style=\"text-align: right;\">\n",
       "      <th></th>\n",
       "      <th>Revenue Growth (%)</th>\n",
       "      <th>Net Income Growth (%)</th>\n",
       "      <th>Asset Growth (%)</th>\n",
       "      <th>Liability Growth (%)</th>\n",
       "      <th>Cash Flow Growth (%)</th>\n",
       "    </tr>\n",
       "    <tr>\n",
       "      <th>Company</th>\n",
       "      <th></th>\n",
       "      <th></th>\n",
       "      <th></th>\n",
       "      <th></th>\n",
       "      <th></th>\n",
       "    </tr>\n",
       "  </thead>\n",
       "  <tbody>\n",
       "    <tr>\n",
       "      <th>Apple</th>\n",
       "      <td>-0.259489</td>\n",
       "      <td>-2.057837</td>\n",
       "      <td>1.172017</td>\n",
       "      <td>0.734064</td>\n",
       "      <td>-0.842475</td>\n",
       "    </tr>\n",
       "    <tr>\n",
       "      <th>Microsoft</th>\n",
       "      <td>7.517331</td>\n",
       "      <td>7.094040</td>\n",
       "      <td>12.412762</td>\n",
       "      <td>7.398559</td>\n",
       "      <td>11.241546</td>\n",
       "    </tr>\n",
       "    <tr>\n",
       "      <th>Tesla</th>\n",
       "      <td>6.578495</td>\n",
       "      <td>-11.088841</td>\n",
       "      <td>14.660357</td>\n",
       "      <td>10.179409</td>\n",
       "      <td>0.868440</td>\n",
       "    </tr>\n",
       "  </tbody>\n",
       "</table>\n",
       "</div>"
      ],
      "text/plain": [
       "           Revenue Growth (%)  Net Income Growth (%)  Asset Growth (%)  \\\n",
       "Company                                                                  \n",
       "Apple               -0.259489              -2.057837          1.172017   \n",
       "Microsoft            7.517331               7.094040         12.412762   \n",
       "Tesla                6.578495             -11.088841         14.660357   \n",
       "\n",
       "           Liability Growth (%)  Cash Flow Growth (%)  \n",
       "Company                                                \n",
       "Apple                  0.734064             -0.842475  \n",
       "Microsoft              7.398559             11.241546  \n",
       "Tesla                 10.179409              0.868440  "
      ]
     },
     "execution_count": 9,
     "metadata": {},
     "output_type": "execute_result"
    }
   ],
   "source": [
    "# Group by company and calculate the average growth across all years\n",
    "growth_summary = df.groupby('Company')[['Revenue Growth (%)', 'Net Income Growth (%)', \n",
    "                                        'Asset Growth (%)', 'Liability Growth (%)', \n",
    "                                        'Cash Flow Growth (%)']].mean()\n",
    "#Display the summary table\n",
    "growth_summary"
   ]
  },
  {
   "cell_type": "code",
   "execution_count": 10,
   "id": "b2a96216-6ceb-4f1d-92e4-bd10b9090680",
   "metadata": {},
   "outputs": [],
   "source": [
    "# Reset index to make 'Company' a column\n",
    "growth_summary = growth_summary.reset_index()\n",
    "# Melt the DataFrame for easier visualization\n",
    "growth_summary_melted = growth_summary.melt(id_vars='Company', var_name='Metric', value_name='Mean Growth (%)')"
   ]
  },
  {
   "cell_type": "code",
   "execution_count": 11,
   "id": "344880e3-c73a-404b-a6f7-6ba3a78cff46",
   "metadata": {},
   "outputs": [
    {
     "data": {
      "image/png": "[encoded data removed]",
      "text/plain": [
       "<Figure size 1200x600 with 1 Axes>"
      ]
     },
     "metadata": {},
     "output_type": "display_data"
    }
   ],
   "source": [
    "plt.figure(figsize=(12, 6))\n",
    "# Create a bar plot with customized colours and aesthetics\n",
    "sns.barplot(data=growth_summary_melted, x='Metric', y='Mean Growth (%)', hue='Company', palette='mako')\n",
    "# Customize the graph\n",
    "plt.title('Comparison of Mean Financial Growth Across Companies', fontsize=14, fontweight='bold')\n",
    "plt.xlabel('Financial Metrics', fontsize=12)\n",
    "plt.ylabel('Mean Growth (%)', fontsize=12)\n",
    "plt.xticks(rotation=30, ha='right') \n",
    "plt.legend(title='Company', bbox_to_anchor=(1, 1))  \n",
    "plt.grid(axis='y', linestyle='--', alpha=0.7)  \n",
    "\n",
    "# Show the final plot\n",
    "plt.show()"
   ]
  },
  {
   "cell_type": "markdown",
   "id": "6076154b-fc1d-4884-9431-feb2c983bd27",
   "metadata": {},
   "source": [
    "## **Conclusions:**\n",
    "\n",
    "- **Microsoft** and **Apple** both demonstrate **stable, long-term growth** across all financial metrics, with Apple leading in asset growth and revenue stability.\n",
    "- **Tesla** shows **high volatility** but also significant growth in certain metrics, particularly in revenue and liabilities. \n",
    "- Companies with **higher volatility** like Tesla often reflect the rapid innovation and scaling of emerging sectors, which come with both higher potential returns and risks.\n",
    "- Overall, while **Apple** and **Microsoft** offer stable, predictable growth, **Tesla** presents higher **risk** but also a higher potential for returns as it continues to scale and mature."
   ]
  }
 ],
 "metadata": {
  "kernelspec": {
   "display_name": "Python 3 (ipykernel)",
   "language": "python",
   "name": "python3"
  },
  "language_info": {
   "codemirror_mode": {
    "name": "ipython",
    "version": 3
   },
   "file_extension": ".py",
   "mimetype": "text/x-python",
   "name": "python",
   "nbconvert_exporter": "python",
   "pygments_lexer": "ipython3",
   "version": "3.12.4"
  }
 },
 "nbformat": 4,
 "nbformat_minor": 5
}
